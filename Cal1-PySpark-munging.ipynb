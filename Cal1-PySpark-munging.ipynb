{
 "cells": [
  {
   "cell_type": "markdown",
   "metadata": {
    "hide_input": false
   },
   "source": [
    "<center>\n",
    "<a href=\"http://www.insa-toulouse.fr/\" ><img src=\"http://www.math.univ-toulouse.fr/~besse/Wikistat/Images/logo-insa.jpg\" style=\"float:left; max-width: 120px; display: inline\" alt=\"INSA\"/></a> \n",
    "\n",
    "<a href=\"http://wikistat.fr/\" ><img src=\"http://www.math.univ-toulouse.fr/~besse/Wikistat/Images/wikistat.jpg\" style=\"max-width: 250px; display: inline\"  alt=\"Wikistat\"/></a>\n",
    "\n",
    "<a href=\"http://www.math.univ-toulouse.fr/\" ><img src=\"http://www.math.univ-toulouse.fr/~besse/Wikistat/Images/logo_imt.jpg\" style=\"float:right; max-width: 200px; display: inline\" alt=\"IMT\"/> </a>\n",
    "</center>"
   ]
  },
  {
   "cell_type": "markdown",
   "metadata": {},
   "source": [
    "# [Ateliers: Technologies des grosses data](https://github.com/wikistat/Ateliers-Big-Data)"
   ]
  },
  {
   "cell_type": "markdown",
   "metadata": {},
   "source": [
    "# Trafic de données (*data munging*) avec <a href=\"http://spark.apache.org/\"><img src=\"http://spark.apache.org/images/spark-logo-trademark.png\" style=\"max-width: 100px; display: inline\" alt=\"Spark\"/> </a>"
   ]
  },
  {
   "cell_type": "markdown",
   "metadata": {},
   "source": [
    "**Résumé**: L'objectif de ce tutoriel est d'introduire les objets de la technologie [Spark](https://spark.apache.org/) et leur utilisation à l'aide de commandes en Python, plus précisément en utilisant l'API  [`PySpark`](http://spark.apache.org/docs/latest/api/python/). Motivations à l'utilisation de cet environnement qui distribue automatiquement les données sur un cluster et parallélise les tâches; description des principaux types de données et du concept de *Resilient Distributed Datasets* (RDD): toute tâche en *Spark* s'exprime comme la création, la transformation de RDDs puis le lancement d'actions sur ces RDDs. "
   ]
  },
  {
   "cell_type": "markdown",
   "metadata": {},
   "source": [
    "## 1 Pourquoi Spark\n",
    "\n",
    "Les données sont trop volumineuses pour la mémoire (RAM, disque) et/ou les temps de calcul rédhibitoires. Plus précisément, la distribution des données avec une technologies *Hadoop* est déjà en place ou devient incontournable. La description d'Hadoop n'est pas détaillée, non plus que les principes contraignants des fonctionnalités *MapReduce* associées. Consulter [Besse et al. 2016](https://hal.archives-ouvertes.fr/hal-01350099v2/document) pour une introduction à *MapReduce*, ses contraintes et une dicussion sur l'intérêt ou non de déployer Spark en fonction des traitements à mettre en oeuvre.\n",
    "\n",
    "*Rappelons le contexte:*\n",
    "- Les méthodes d'apprentissage statistique supervisée ou non déploient des algorithmes itératifs dont l'exécution sur des données gérées dans un cadre *Hadoop* provoquent des lectures / écritures à chaque itération. Les temps d'exécution s'en trouvent fortement pénalisés.\n",
    "- La technologie [Spark](http://spark.apache.org/) y remédie en intégrant le concept de *tables de données distribuées résilientes* (*Resilient Distributed Dataset* ou RDD de Zaharia et al. 2012). Très schématiquement, chaque partition de données reste en mémoire sur son serveur de calcul entre deux itérations tout en gérant les principes de tolérance aux pannes propres à Hadoop.\n",
    "- Les commandes spécifiques de *Spark*  s'exécutent en Java, Scala et aussi pour certaines en Python ou R. D'où l'intérêt de l'apprentissage de Python qui permet sans \"trop\" d'efforts de franchir le changement d'échelle en volume et vélocité, notamment par l'emploi de la librairie ou plutôt de l'interface de programmation (*Application Interface programmation* ou API) dédiée [`PySpark`](http://spark.apache.org/docs/latest/api/python/); cette API intère un noyau Jupyter pour une utilisation interactive sous forme de calepins.\n",
    "- [SparlSQL](https://spark.apache.org/sql/) permet d'accéder à tout type de données, structurées ou non, volumineuse (distribuées) en Python exécutant des commandes dans une syntaxe SQL.\n",
    "- [`MLlib`](http://spark.apache.org/docs/latest/ml-guide.html) intègre les principaux algorithmes d'apprentissage et méthodes statistique.\n",
    "- Deux autres librairies sont disponibles pour traiter des données en [flux](https://spark.apache.org/streaming/)  (*streaming*) ou celles de [graphes et réseaux](https://spark.apache.org/graphx/). Elles ne sont actuellement (version 1.6 de Spark) accessibles que par les langages Scala ou Java.\n",
    "\n",
    "Une évolution de *MLlib* est en cours à partir de la version 2. Elle permet d'intégrer progressivement les notions de *data frame* et *pipeline* aux algorithmes d'apprentissage machine déjà implémentées dans *MLlib* et applicables à des RDDs.\n",
    "\n",
    " \n",
    "La principale motivation pour utiliser Spark est que les mêmes programmes ou commandes sont utilisées sur un poste isolé,  un cluster, un ensemble de machines virtuelles sur un serveur comme *Amazon Web Service*, *Google cloud*..., pour gérer prétraiter des données stockées dans un fichier ou distribuées dans un système *Hadoop*. \n",
    "\n",
    "**Attention**: (cf. [Besse et al. 2016](https://hal.archives-ouvertes.fr/hal-01350099v2/document)) Pour la phase d'apprentissage ou d'estimation de modèles, une solution qui consisterait à utiliser un plus gros ordinateur avec beaucoup de mémoire vive (architecture intégrée) est souvent  préférable en terme de temps de mise au point et d'exécution, à celle de déployer une architecture distribuée. L'utilisation de Spark / Hadoop s'impose lorsque les données sont déjà  dans cet environnement *mais*, très souvent, l'extraction,  l'échantillonnage, la préparation des données, en vue d'un problème spécifique suffit à se ramener à un volume compatible avec la mémoire d'un ordinateur.\n",
    "\n",
    "Le principal *objectif* est d'introduire ces outils pour l'usage et les usages d'un statisticien ou maintenant *data scientist*. Ce premier tutoriel se focalise donc sur la préparation des données par la gestion de RDDs."
   ]
  },
  {
   "cell_type": "markdown",
   "metadata": {},
   "source": [
    "## 2 Présentation de Spark"
   ]
  },
  {
   "cell_type": "markdown",
   "metadata": {},
   "source": [
    "### 2.1 Documentation\n",
    "Les procédures d'installation, les concepts et les modes d'utilisation de [Spark](https://spark.apache.org/) sont explicités dans la [documentation](https://spark.apache.org/docs/latest/) en ligne et dans le livre de Karau et al. (2015)\\. \n",
    "\n",
    "### 2.2 Installation\n",
    "L'installation de Spark nécessite, entre autres, celle du gestionnaire de projet [Maven](https://maven.apache.org/) et d'une version récente de Java. Cette opération qui est relativement complexe, surtout sous Windows, n'est pas détaillée ici mais consultable dans les documentations citées.  Nous considérons que cela ne fait pas partie des compétences incontournables d'un statisticien qui se focalise sur les méthodes d'analyse / valorisation des données. Spark est donc supposé installé, accessible par l'intermédiaire de l'API *pyspark*. \n",
    "\n",
    "### 2.3 Utilisation\n",
    "Spark propose quatre types ou modes d'exécution:\n",
    "- *Standalone local* s'exécute dans un processus de machine virtuelle java sur un poste. C'est le mode utilisé pour tester un programme sur un petit ensemble de données et sur un poste de travail.\n",
    "- *Standalone cluster* est le cadre pour gérer en interne l'ordonnancement des tâches sur un cluster.\n",
    "- [*MESOS*](http://mesos.apache.org/) pour utiliser un cluster gérer par ces ressources du projet Apache.\n",
    "- [*YARN*](http://hadoop.apache.org/docs/current/hadoop-yarn/hadoop-yarn-site/YARN.html) même chose pour un cluster (*e.g* AWS) utilisant les fonctionnalités MapReduce de Hadoop.\n",
    "\n",
    "Spark exécute un programme en Java, Scala ou Python comme un langage interprété, à l'aide d'une console interactive, par le biais d'un notebook ou calepin IPython ou encore dans les environnements (nuages) loués comme par exemple à Amazon's EC2 (*Elastic Cloud Compute*). Pentreath (2015) explicite sur  un exemple le lancement d'un cluster Spark dans l'environnement EC2 d'Amazon.\n",
    "\n",
    "### 2.4 Configuration\n",
    "L'environnement utilisé est décrit par la commande `SparkContext` initialisant un objet `SparkConf` qui définit la configuration utilisée comme par exemple l'URL du noeud \"maître\" (*driver*) du cluster de calcul utilisé, le nombre de noeuds \"exécuteurs\" ou *workers*, leur espace mémoire réservé à chacun dans le cas de machines virtuelles. Chacun des exécuteurs doit avoir accès à l'insatallation de Python, ses librairies ainsi qu'à l'espace de sctockage où sont distribuées les RDDs.\n",
    "\n",
    "En utilisation sur un poste seul, cet environnement ne pose pas de problèmes de droits d'accès et est prédéfini à l'installation de Spark.\n"
   ]
  },
  {
   "cell_type": "code",
   "execution_count": 1,
   "metadata": {},
   "outputs": [
    {
     "data": {
      "text/html": [
       "\n",
       "        <div>\n",
       "            <p><b>SparkContext</b></p>\n",
       "\n",
       "            <p><a href=\"http://10.32.30.81:4040\">Spark UI</a></p>\n",
       "\n",
       "            <dl>\n",
       "              <dt>Version</dt>\n",
       "                <dd><code>v2.3.0</code></dd>\n",
       "              <dt>Master</dt>\n",
       "                <dd><code>local[*]</code></dd>\n",
       "              <dt>AppName</dt>\n",
       "                <dd><code>pyspark-shell</code></dd>\n",
       "            </dl>\n",
       "        </div>\n",
       "        "
      ],
      "text/plain": [
       "<SparkContext master=local[*] appName=pyspark-shell>"
      ]
     },
     "execution_count": 1,
     "metadata": {},
     "output_type": "execute_result"
    }
   ],
   "source": [
    "sc"
   ]
  },
  {
   "cell_type": "markdown",
   "metadata": {},
   "source": [
    "### 2.5 Programme \"jouet\"\n",
    "Charger ce [calepin]() dans le répertoire de travail puis l'ouvrir dans l'environnement [*Jupyter*](http://jupyter.org/). Le fichier texte [`HistorCommande.csv`](https://www.math.univ-toulouse.fr/~besse/Wikistat/data/HistorCommande.csv) contient une liste de \"commandes\":\n",
    "\n",
    "    Albert,cafe,3.27\n",
    "    Albert,chocolat,2.45\n",
    "    Julie,coca,3.20\n",
    "    Dominique,tarte,1.50\n",
    "    Paul,cassoulet,5.40\n",
    "\n",
    "A l'INSAT, le noyau Jupyter de PySpark est lancé sous Linux dans un navigateur (*firefox*) par l'exécution dans un terminal de la commande:\n",
    "\n",
    "    pyspark-1.6.2_notebook.sh &\n",
    "Exécuter les cellules ci-dessous; les principaux objets seront détaillés ensuite."
   ]
  },
  {
   "cell_type": "code",
   "execution_count": 2,
   "metadata": {
    "collapsed": true
   },
   "outputs": [],
   "source": [
    "# Chargement du fichier\n",
    "#Renseignez ici le dossier ou vous souhaitez stocker le fichier téléchargé.\n",
    "DATA_PATH=\"\" \n",
    "import urllib.request\n",
    "f = urllib.request.urlretrieve(\"http://www.math.univ-toulouse.fr/~besse/Wikistat/data/HistorCommande.csv\",DATA_PATH+\"HistorCommande.csv\")"
   ]
  },
  {
   "cell_type": "code",
   "execution_count": 3,
   "metadata": {},
   "outputs": [
    {
     "name": "stdout",
     "output_type": "stream",
     "text": [
      "Nb de commandes: 5\n"
     ]
    }
   ],
   "source": [
    "# Lecture et distribution du fichier en RDD\n",
    "data = sc.textFile(DATA_PATH+\"HistorCommande.csv\").map(lambda line: \n",
    "        line.split(\",\")).map(lambda record: (record[0], record[1], record[2]))\n",
    "# Pas d'exécution tant qu'une action n'est pas requise\n",
    "# nombre total de commandes\n",
    "NbCommande=data.count()\n",
    "print(\"Nb de commandes: %d\" % NbCommande)"
   ]
  },
  {
   "cell_type": "code",
   "execution_count": 4,
   "metadata": {},
   "outputs": [
    {
     "data": {
      "text/plain": [
       "[('Albert', 'cafe', '3.27'),\n",
       " ('Albert', 'chocolat', '2.45'),\n",
       " ('Julie', 'coca', '3.20'),\n",
       " ('Dominique', 'tarte', '1.50'),\n",
       " ('Paul', 'cassoulet', '5.40')]"
      ]
     },
     "execution_count": 4,
     "metadata": {},
     "output_type": "execute_result"
    }
   ],
   "source": [
    "#Visualiser le contenu de la RDD\n",
    "data.take(5)"
   ]
  },
  {
   "cell_type": "code",
   "execution_count": 5,
   "metadata": {},
   "outputs": [
    {
     "name": "stdout",
     "output_type": "stream",
     "text": [
      "Nb clients: 4\n"
     ]
    }
   ],
   "source": [
    "# Nombre de clients uniques\n",
    "ClientUnique = data.map(lambda record: record[0]).distinct().count()\n",
    "print(\"Nb clients: %d\" % ClientUnique)"
   ]
  },
  {
   "cell_type": "code",
   "execution_count": 6,
   "metadata": {},
   "outputs": [
    {
     "name": "stdout",
     "output_type": "stream",
     "text": [
      "Total des commandes: 15.82\n"
     ]
    }
   ],
   "source": [
    "# Total des commandes\n",
    "TotalCom = data.map(lambda record: float(record[2])).sum()\n",
    "print(\"Total des commandes: %2.2f\" % TotalCom)"
   ]
  },
  {
   "cell_type": "code",
   "execution_count": 7,
   "metadata": {},
   "outputs": [
    {
     "name": "stdout",
     "output_type": "stream",
     "text": [
      "Produit le plus populaire: cassoulet avec 1 commandes\n"
     ]
    }
   ],
   "source": [
    "# Produit le plus commandé\n",
    "produits = data.map(lambda record: (record[1], 1.0)).reduceByKey(lambda a, b: a + b).collect()\n",
    "plusFreq = sorted(produits, key=lambda x: x[1], reverse=True)[0]\n",
    "print(\"Produit le plus populaire: %s avec %d commandes\" %(plusFreq[0],plusFreq[1]))"
   ]
  },
  {
   "cell_type": "markdown",
   "metadata": {},
   "source": [
    "Le livre de réféfrence est  *Learning Spark* (2015) par  Holden Karau, Andy Konwinski, Patrick Wendell, et Matei Zaharia.  "
   ]
  },
  {
   "cell_type": "markdown",
   "metadata": {},
   "source": [
    "## 3. Gestion élémentaire de RDDs\n",
    "La suite du tutoriel s'inspire de ceux proposés par [J. A. Dianes](https://github.com/jadianes/spark-py-notebooks) et utilise les données d'un concours: [KDD Cup 1999](http://kdd.ics.uci.edu/databases/kddcup99/kddcup99.html) concernant près de 9M d'interactions dans un réseau. Elles sont décrites en détail [ici](http://kdd.ics.uci.edu/databases/kddcup99/kddcup.names). L'objectif est d'apprendre à détecter des intrusions dans un réseau à partir d'un ensemble de variables ou *features* déjà calculées sur chaque transaction ou interaction avec le réseau.\n",
    "\n",
    "Un sous-échantillon est chargé localement."
   ]
  },
  {
   "cell_type": "code",
   "execution_count": 8,
   "metadata": {
    "collapsed": true
   },
   "outputs": [],
   "source": [
    "#Python 3\n",
    "f = urllib.request.urlretrieve (\"http://kdd.ics.uci.edu/databases/kddcup99/kddcup.data_10_percent.gz\",DATA_PATH+\"kddcup.data_10_percent.gz\")"
   ]
  },
  {
   "cell_type": "markdown",
   "metadata": {},
   "source": [
    "### 3.1 Créer une RDD à partir du fichier\n",
    "Spark gère directement un fichier compressé.  "
   ]
  },
  {
   "cell_type": "code",
   "execution_count": 9,
   "metadata": {
    "collapsed": true
   },
   "outputs": [],
   "source": [
    "data_file = DATA_PATH+\"kddcup.data_10_percent.gz\"\n",
    "raw_data = sc.textFile(data_file)"
   ]
  },
  {
   "cell_type": "markdown",
   "metadata": {},
   "source": [
    "Aucune exécution tant qu'une action n'est pas lancée pour, par exemple, vérifier que le bon nombre de lignes sont lues."
   ]
  },
  {
   "cell_type": "code",
   "execution_count": 10,
   "metadata": {},
   "outputs": [
    {
     "data": {
      "text/plain": [
       "494021"
      ]
     },
     "execution_count": 10,
     "metadata": {},
     "output_type": "execute_result"
    }
   ],
   "source": [
    "raw_data.count()"
   ]
  },
  {
   "cell_type": "markdown",
   "metadata": {},
   "source": [
    " Ou en vérifiant le contenue des premières lignes."
   ]
  },
  {
   "cell_type": "code",
   "execution_count": 11,
   "metadata": {},
   "outputs": [
    {
     "data": {
      "text/plain": [
       "['0,tcp,http,SF,181,5450,0,0,0,0,0,1,0,0,0,0,0,0,0,0,0,0,8,8,0.00,0.00,0.00,0.00,1.00,0.00,0.00,9,9,1.00,0.00,0.11,0.00,0.00,0.00,0.00,0.00,normal.',\n",
       " '0,tcp,http,SF,239,486,0,0,0,0,0,1,0,0,0,0,0,0,0,0,0,0,8,8,0.00,0.00,0.00,0.00,1.00,0.00,0.00,19,19,1.00,0.00,0.05,0.00,0.00,0.00,0.00,0.00,normal.',\n",
       " '0,tcp,http,SF,235,1337,0,0,0,0,0,1,0,0,0,0,0,0,0,0,0,0,8,8,0.00,0.00,0.00,0.00,1.00,0.00,0.00,29,29,1.00,0.00,0.03,0.00,0.00,0.00,0.00,0.00,normal.',\n",
       " '0,tcp,http,SF,219,1337,0,0,0,0,0,1,0,0,0,0,0,0,0,0,0,0,6,6,0.00,0.00,0.00,0.00,1.00,0.00,0.00,39,39,1.00,0.00,0.03,0.00,0.00,0.00,0.00,0.00,normal.',\n",
       " '0,tcp,http,SF,217,2032,0,0,0,0,0,1,0,0,0,0,0,0,0,0,0,0,6,6,0.00,0.00,0.00,0.00,1.00,0.00,0.00,49,49,1.00,0.00,0.02,0.00,0.00,0.00,0.00,0.00,normal.']"
      ]
     },
     "execution_count": 11,
     "metadata": {},
     "output_type": "execute_result"
    }
   ],
   "source": [
    "raw_data.take(5)"
   ]
  },
  {
   "cell_type": "markdown",
   "metadata": {},
   "source": [
    "Autre exemple : créer un RDD à partir d'une liste avec la transformation `parallelize` "
   ]
  },
  {
   "cell_type": "code",
   "execution_count": 12,
   "metadata": {
    "collapsed": true
   },
   "outputs": [],
   "source": [
    "a = range(100)\n",
    "data = sc.parallelize(a)"
   ]
  },
  {
   "cell_type": "markdown",
   "metadata": {},
   "source": [
    "Avant d'exécuter les mêmes actions"
   ]
  },
  {
   "cell_type": "code",
   "execution_count": 13,
   "metadata": {},
   "outputs": [
    {
     "data": {
      "text/plain": [
       "100"
      ]
     },
     "execution_count": 13,
     "metadata": {},
     "output_type": "execute_result"
    }
   ],
   "source": [
    "data.count()"
   ]
  },
  {
   "cell_type": "code",
   "execution_count": 14,
   "metadata": {},
   "outputs": [
    {
     "data": {
      "text/plain": [
       "[0, 1, 2, 3, 4]"
      ]
     },
     "execution_count": 14,
     "metadata": {},
     "output_type": "execute_result"
    }
   ],
   "source": [
    "data.take(5)"
   ]
  },
  {
   "cell_type": "markdown",
   "metadata": {},
   "source": [
    "***N.B.*** Bien faire la distinction entre une *transformation*, déclarative, et une *action* qui s'exécute et provoque l'exécution des transformations précédemment définies. Une transformation est une instruction *paresseuse* (*lazy*) qui n'est exécutée que lorsque cela est nécessaire."
   ]
  },
  {
   "cell_type": "markdown",
   "metadata": {},
   "source": [
    "### 3.2 Filtrer une RDD\n",
    "Une fonction logique est évaluée afin d'extraire les bons éléments d'une RDD pour en créer une nouvelle. Dans l'exemple ci-dessous, il s'agit de compter le nombre de transactions \"normales\". La commande suivante déclare la transformation:"
   ]
  },
  {
   "cell_type": "code",
   "execution_count": 15,
   "metadata": {
    "collapsed": true
   },
   "outputs": [],
   "source": [
    "normal_raw_data = raw_data.filter(lambda x: 'normal.' in x)"
   ]
  },
  {
   "cell_type": "markdown",
   "metadata": {},
   "source": [
    "qui est ensuite exécuté par l'action `count`:"
   ]
  },
  {
   "cell_type": "code",
   "execution_count": 16,
   "metadata": {},
   "outputs": [
    {
     "name": "stdout",
     "output_type": "stream",
     "text": [
      "Il y a 97278  interactions 'normales'\n",
      "Calcul réalisé en 0.913 secondes\n"
     ]
    }
   ],
   "source": [
    "from time import time\n",
    "t0 = time()\n",
    "normal_count = normal_raw_data.count()\n",
    "tt = time() - t0\n",
    "print(\"Il y a {}  interactions 'normales'\".format(normal_count))\n",
    "print(\"Calcul réalisé en {} secondes\".format(round(tt,3)))"
   ]
  },
  {
   "cell_type": "markdown",
   "metadata": {},
   "source": [
    "### 3.3 Transformer une RDD: transformation *map*\n",
    "Comme précédemmnet, la fonction `lambda` de python est utilisée pour être appliquée dans une transformation *map* à chaque élément de la table. Il s'agit d'extraire chaque champ avec le séparateur \",\" du format .csv. La première ligne de la RDD créée est ensuite affichée."
   ]
  },
  {
   "cell_type": "code",
   "execution_count": 17,
   "metadata": {},
   "outputs": [
    {
     "name": "stdout",
     "output_type": "stream",
     "text": [
      "Parse completed in 0.026 seconds\n",
      "['0',\n",
      " 'tcp',\n",
      " 'http',\n",
      " 'SF',\n",
      " '181',\n",
      " '5450',\n",
      " '0',\n",
      " '0',\n",
      " '0',\n",
      " '0',\n",
      " '0',\n",
      " '1',\n",
      " '0',\n",
      " '0',\n",
      " '0',\n",
      " '0',\n",
      " '0',\n",
      " '0',\n",
      " '0',\n",
      " '0',\n",
      " '0',\n",
      " '0',\n",
      " '8',\n",
      " '8',\n",
      " '0.00',\n",
      " '0.00',\n",
      " '0.00',\n",
      " '0.00',\n",
      " '1.00',\n",
      " '0.00',\n",
      " '0.00',\n",
      " '9',\n",
      " '9',\n",
      " '1.00',\n",
      " '0.00',\n",
      " '0.11',\n",
      " '0.00',\n",
      " '0.00',\n",
      " '0.00',\n",
      " '0.00',\n",
      " '0.00',\n",
      " 'normal.']\n"
     ]
    }
   ],
   "source": [
    "from pprint import pprint\n",
    "csv_data = raw_data.map(lambda x: x.split(\",\"))\n",
    "t0 = time()\n",
    "head_rows = csv_data.take(5)\n",
    "tt = time() - t0\n",
    "print(\"Parse completed in {} seconds\".format(round(tt,3)))\n",
    "pprint(head_rows[0])"
   ]
  },
  {
   "cell_type": "markdown",
   "metadata": {},
   "source": [
    "La commande suivante prend plus de temps car elle est exécutée à plus de lignes."
   ]
  },
  {
   "cell_type": "code",
   "execution_count": 18,
   "metadata": {},
   "outputs": [
    {
     "name": "stdout",
     "output_type": "stream",
     "text": [
      "Parse completed in 0.333 seconds\n"
     ]
    }
   ],
   "source": [
    "t0 = time()\n",
    "head_rows = csv_data.take(10000)\n",
    "tt = time() - t0\n",
    "print(\"Parse completed in {} seconds\".format(round(tt,3)))"
   ]
  },
  {
   "cell_type": "markdown",
   "metadata": {},
   "source": [
    "### 3.4 *Map* d'une fonction prédéfine\n",
    "La transformation *map* applique une fonction prédéfinie à toute la RDD. L'objectif est de définir ci-dessous l'option transaction \"normale\" comme \"valeur de clef\" associée à une valeur qui est la liste de tous les autres éléments de la ligne."
   ]
  },
  {
   "cell_type": "code",
   "execution_count": 19,
   "metadata": {},
   "outputs": [
    {
     "name": "stdout",
     "output_type": "stream",
     "text": [
      "('normal.',\n",
      " ['0',\n",
      "  'tcp',\n",
      "  'http',\n",
      "  'SF',\n",
      "  '181',\n",
      "  '5450',\n",
      "  '0',\n",
      "  '0',\n",
      "  '0',\n",
      "  '0',\n",
      "  '0',\n",
      "  '1',\n",
      "  '0',\n",
      "  '0',\n",
      "  '0',\n",
      "  '0',\n",
      "  '0',\n",
      "  '0',\n",
      "  '0',\n",
      "  '0',\n",
      "  '0',\n",
      "  '0',\n",
      "  '8',\n",
      "  '8',\n",
      "  '0.00',\n",
      "  '0.00',\n",
      "  '0.00',\n",
      "  '0.00',\n",
      "  '1.00',\n",
      "  '0.00',\n",
      "  '0.00',\n",
      "  '9',\n",
      "  '9',\n",
      "  '1.00',\n",
      "  '0.00',\n",
      "  '0.11',\n",
      "  '0.00',\n",
      "  '0.00',\n",
      "  '0.00',\n",
      "  '0.00',\n",
      "  '0.00',\n",
      "  'normal.'])\n"
     ]
    }
   ],
   "source": [
    "# Fontion qui sépare les champ (elems=valeur) et extrait la 41ème = clef.\n",
    "def parse_interaction(line):\n",
    "    elems = line.split(\",\")\n",
    "    tag = elems[41]\n",
    "    return (tag, elems)\n",
    "# Affichage des 5 premiers\n",
    "key_csv_data = raw_data.map(parse_interaction)\n",
    "head_rows = key_csv_data.take(5)\n",
    "pprint(head_rows[0])"
   ]
  },
  {
   "cell_type": "markdown",
   "metadata": {},
   "source": [
    "Il est ensuite possible de dénombrer par valeur de clef."
   ]
  },
  {
   "cell_type": "markdown",
   "metadata": {},
   "source": [
    "### 3.5 L'action `collect`\n",
    "En plus des actions `count`et `take`, celle `collect` a pour effet de charger en mémoire tous les éléments d'une RDD. A manier avec prudence pour éviter des dépassements de mémoire."
   ]
  },
  {
   "cell_type": "code",
   "execution_count": 20,
   "metadata": {},
   "outputs": [
    {
     "name": "stdout",
     "output_type": "stream",
     "text": [
      "Data collected in 3.156 seconds\n"
     ]
    }
   ],
   "source": [
    "t0 = time()\n",
    "all_raw_data = raw_data.collect()\n",
    "tt = time() - t0\n",
    "print(\"Data collected in {} seconds\".format(round(tt,3)))"
   ]
  },
  {
   "cell_type": "markdown",
   "metadata": {},
   "source": [
    "Cela prend plus de temps pour collecter tous les fragments détenus par les exécuteurs et les regrouper (*reduce*) ensemble. \n",
    "\n",
    "Le dernier exemple combine les fonctions précédentes pour collecter toutes les interactions normales comme des paires (clef, valeur)."
   ]
  },
  {
   "cell_type": "code",
   "execution_count": 21,
   "metadata": {},
   "outputs": [
    {
     "name": "stdout",
     "output_type": "stream",
     "text": [
      "Data collected in 3.637 seconds\n",
      "There are 97278 'normal' interactions\n"
     ]
    }
   ],
   "source": [
    "# get data from file\n",
    "data_file = DATA_PATH+\"kddcup.data_10_percent.gz\"\n",
    "raw_data = sc.textFile(data_file)\n",
    "\n",
    "# parse into key-value pairs\n",
    "key_csv_data = raw_data.map(parse_interaction)\n",
    "\n",
    "# filter normal key interactions\n",
    "normal_key_interactions = key_csv_data.filter(lambda x: x[0] == \"normal.\")\n",
    "\n",
    "# collect all\n",
    "t0 = time()\n",
    "all_normal = normal_key_interactions.collect()\n",
    "tt = time() - t0\n",
    "normal_count = len(all_normal)\n",
    "print(\"Data collected in {} seconds\".format(round(tt,3)))\n",
    "print(\"There are {} 'normal' interactions\".format(normal_count))"
   ]
  },
  {
   "cell_type": "markdown",
   "metadata": {},
   "source": [
    "Cette procédure est plus longue que la simple application de l'action `count`. "
   ]
  },
  {
   "cell_type": "markdown",
   "metadata": {},
   "source": [
    "## 4 Opération sur des RDDs\n",
    "### 4.1 Opérations ensemblistes\n",
    "Des opérateurs ensemblistes: `subtract`, `distinct`, et `cartesian`, sont des transformations qui s'appliquent à des RDDs de même type."
   ]
  },
  {
   "cell_type": "code",
   "execution_count": 22,
   "metadata": {
    "collapsed": true
   },
   "outputs": [],
   "source": [
    "# Relecture des données\n",
    "data_file = DATA_PATH+\"kddcup.data_10_percent.gz\"\n",
    "raw_data = sc.textFile(data_file)"
   ]
  },
  {
   "cell_type": "markdown",
   "metadata": {},
   "source": [
    "#### 4.1.1 `Substract`\n",
    "Obtenir les intrusions ou attaques en retranchant l'ensemble des ineractions \"normales\"."
   ]
  },
  {
   "cell_type": "code",
   "execution_count": 23,
   "metadata": {
    "collapsed": true
   },
   "outputs": [],
   "source": [
    "# Interactions normales comme précédemment\n",
    "normal_raw_data = raw_data.filter(lambda x: \"normal.\" in x)"
   ]
  },
  {
   "cell_type": "code",
   "execution_count": 24,
   "metadata": {
    "collapsed": true
   },
   "outputs": [],
   "source": [
    "# Ensemble des intrusions\n",
    "attack_raw_data = raw_data.subtract(normal_raw_data)"
   ]
  },
  {
   "cell_type": "code",
   "execution_count": 25,
   "metadata": {},
   "outputs": [
    {
     "name": "stdout",
     "output_type": "stream",
     "text": [
      "All count in 0.812 secs\n"
     ]
    }
   ],
   "source": [
    "from time import time\n",
    "\n",
    "# count all\n",
    "t0 = time()\n",
    "raw_data_count = raw_data.count()\n",
    "tt = time() - t0\n",
    "print(\"All count in {} secs\".format(round(tt,3)))"
   ]
  },
  {
   "cell_type": "code",
   "execution_count": 26,
   "metadata": {},
   "outputs": [
    {
     "name": "stdout",
     "output_type": "stream",
     "text": [
      "Normal count in 0.841 secs\n"
     ]
    }
   ],
   "source": [
    "# count normal\n",
    "t0 = time()\n",
    "normal_raw_data_count = normal_raw_data.count()\n",
    "tt = time() - t0\n",
    "print(\"Normal count in {} secs\".format(round(tt,3)))"
   ]
  },
  {
   "cell_type": "code",
   "execution_count": 27,
   "metadata": {},
   "outputs": [
    {
     "name": "stdout",
     "output_type": "stream",
     "text": [
      "Attack count in 3.665 secs\n"
     ]
    }
   ],
   "source": [
    "# count attacks\n",
    "t0 = time()\n",
    "attack_raw_data_count = attack_raw_data.count()\n",
    "tt = time() - t0\n",
    "print(\"Attack count in {} secs\".format(round(tt,3)))"
   ]
  },
  {
   "cell_type": "code",
   "execution_count": 28,
   "metadata": {},
   "outputs": [
    {
     "name": "stdout",
     "output_type": "stream",
     "text": [
      "Il y a 97278 interactions normales and 396743 attaques, pour un total de 494021 interactions\n"
     ]
    }
   ],
   "source": [
    "print(\"Il y a {} interactions normales and {} attaques, \\\n",
    "pour un total de {} interactions\".format(normal_raw_data_count,attack_raw_data_count,raw_data_count))"
   ]
  },
  {
   "cell_type": "markdown",
   "metadata": {},
   "source": [
    "Le résultat fournit deux RDDs."
   ]
  },
  {
   "cell_type": "markdown",
   "metadata": {},
   "source": [
    "#### 4.1.2 `cartesian`\n",
    "Le produit cartésien retourne toutes les paires possibles entre éléments de deux RDDS. C'est utilisé pour générer toutes les paires entre \"service\" (2ème colonne) et \"protocole\" (3ème colone). \n",
    "\n",
    "La transformation `distinct` permet de lister les valeurs possibles (uniques) de chaque variable qualitative. "
   ]
  },
  {
   "cell_type": "code",
   "execution_count": 29,
   "metadata": {},
   "outputs": [
    {
     "data": {
      "text/plain": [
       "['icmp', 'udp', 'tcp']"
      ]
     },
     "execution_count": 29,
     "metadata": {},
     "output_type": "execute_result"
    }
   ],
   "source": [
    "# Pour le protocole\n",
    "csv_data = raw_data.map(lambda x: x.split(\",\"))\n",
    "protocols = csv_data.map(lambda x: x[1]).distinct()\n",
    "protocols.collect()"
   ]
  },
  {
   "cell_type": "code",
   "execution_count": 30,
   "metadata": {},
   "outputs": [
    {
     "data": {
      "text/plain": [
       "['finger',\n",
       " 'http',\n",
       " 'netbios_dgm',\n",
       " 'name',\n",
       " 'hostnames',\n",
       " 'vmnet',\n",
       " 'systat',\n",
       " 'shell',\n",
       " 'netbios_ssn',\n",
       " 'urh_i',\n",
       " 'pop_3',\n",
       " 'ctf',\n",
       " 'domain',\n",
       " 'mtp',\n",
       " 'remote_job',\n",
       " 'exec',\n",
       " 'supdup',\n",
       " 'http_443',\n",
       " 'sunrpc',\n",
       " 'urp_i',\n",
       " 'pop_2',\n",
       " 'csnet_ns',\n",
       " 'smtp',\n",
       " 'whois',\n",
       " 'ldap',\n",
       " 'daytime',\n",
       " 'imap4',\n",
       " 'nntp',\n",
       " 'klogin',\n",
       " 'rje',\n",
       " 'IRC',\n",
       " 'link',\n",
       " 'eco_i',\n",
       " 'tftp_u',\n",
       " 'iso_tsap',\n",
       " 'uucp_path',\n",
       " 'auth',\n",
       " 'ecr_i',\n",
       " 'other',\n",
       " 'domain_u',\n",
       " 'courier',\n",
       " 'discard',\n",
       " 'red_i',\n",
       " 'tim_i',\n",
       " 'time',\n",
       " 'login',\n",
       " 'ftp',\n",
       " 'telnet',\n",
       " 'ntp_u',\n",
       " 'sql_net',\n",
       " 'echo',\n",
       " 'private',\n",
       " 'gopher',\n",
       " 'efs',\n",
       " 'netbios_ns',\n",
       " 'ftp_data',\n",
       " 'nnsp',\n",
       " 'ssh',\n",
       " 'netstat',\n",
       " 'uucp',\n",
       " 'Z39_50',\n",
       " 'kshell',\n",
       " 'X11',\n",
       " 'bgp',\n",
       " 'pm_dump',\n",
       " 'printer']"
      ]
     },
     "execution_count": 30,
     "metadata": {},
     "output_type": "execute_result"
    }
   ],
   "source": [
    "# Pour le service\n",
    "services = csv_data.map(lambda x: x[2]).distinct()\n",
    "services.collect()"
   ]
  },
  {
   "cell_type": "markdown",
   "metadata": {},
   "source": [
    "Le produit cartésien fournit tous les couples possibles."
   ]
  },
  {
   "cell_type": "code",
   "execution_count": 31,
   "metadata": {},
   "outputs": [
    {
     "name": "stdout",
     "output_type": "stream",
     "text": [
      "Il y a 198 combinaisons de protocol X service\n"
     ]
    }
   ],
   "source": [
    "product = protocols.cartesian(services).collect()\n",
    "print(\"Il y a {} combinaisons de protocol X service\".format(len(product)))"
   ]
  },
  {
   "cell_type": "markdown",
   "metadata": {},
   "source": [
    "A utiliser avec prudence si les RDDs sont volumineuses avec beaucoup de modalités. "
   ]
  },
  {
   "cell_type": "markdown",
   "metadata": {},
   "source": [
    "### 4.2 Aggrégations de RDDs"
   ]
  },
  {
   "cell_type": "markdown",
   "metadata": {},
   "source": [
    "D'autres manipulations ou agrégations sont produites par des actions `reduce`, `fold`, et la dernière: `aggregate` qui est une forme de généralisation.\n",
    "\n",
    "#### 4.2.1 `reduce`"
   ]
  },
  {
   "cell_type": "code",
   "execution_count": 32,
   "metadata": {
    "collapsed": true
   },
   "outputs": [],
   "source": [
    "# Relecture des données\n",
    "data_file = DATA_PATH+\"kddcup.data_10_percent.gz\"\n",
    "raw_data = sc.textFile(data_file)"
   ]
  },
  {
   "cell_type": "markdown",
   "metadata": {},
   "source": [
    "Les actions `fold` et `reduce`prennent une fonction comme argument (par exemple \"+\") qui est appliquée à deux éléments d'une RDD; `fold` diffère de `reduce` car nécessite une initialisation préliminaire (par exemple 0  pour \"+\").\n",
    "\n",
    "L'exemple calcule les sommes des temps d'interactions par statut: normales ou non."
   ]
  },
  {
   "cell_type": "code",
   "execution_count": 33,
   "metadata": {
    "collapsed": true
   },
   "outputs": [],
   "source": [
    "# parse data\n",
    "csv_data = raw_data.map(lambda x: x.split(\",\"))\n",
    "\n",
    "# Séparation en deux RDDs\n",
    "normal_csv_data = csv_data.filter(lambda x: x[41]==\"normal.\")\n",
    "attack_csv_data = csv_data.filter(lambda x: x[41]!=\"normal.\")"
   ]
  },
  {
   "cell_type": "markdown",
   "metadata": {},
   "source": [
    "Les fonctions transférées à `reduce` envoie et retourne des RDDs de même type sous la forme d'une nouvelle RDD à .créer"
   ]
  },
  {
   "cell_type": "code",
   "execution_count": 34,
   "metadata": {
    "collapsed": true
   },
   "outputs": [],
   "source": [
    "# Création de ces RDDs avec les durées\n",
    "normal_duration_data = normal_csv_data.map(lambda x: int(x[0]))\n",
    "attack_duration_data = attack_csv_data.map(lambda x: int(x[0]))"
   ]
  },
  {
   "cell_type": "markdown",
   "metadata": {},
   "source": [
    "La transformation `reduce` appliquée aux deux nouvelles RDDs."
   ]
  },
  {
   "cell_type": "code",
   "execution_count": 35,
   "metadata": {},
   "outputs": [
    {
     "name": "stdout",
     "output_type": "stream",
     "text": [
      "Total duration for 'normal' interactions is 21075991\n",
      "Total duration for 'attack' interactions is 2626792\n"
     ]
    }
   ],
   "source": [
    "total_normal_duration = normal_duration_data.reduce(lambda x, y: x + y)\n",
    "total_attack_duration = attack_duration_data.reduce(lambda x, y: x + y)\n",
    "\n",
    "print(\"Total duration for 'normal' interactions is {}\".\\\n",
    "    format(total_normal_duration))\n",
    "print(\"Total duration for 'attack' interactions is {}\".\\\n",
    "    format(total_attack_duration))"
   ]
  },
  {
   "cell_type": "markdown",
   "metadata": {},
   "source": [
    "Associée à `count` pour calculer la moyenne."
   ]
  },
  {
   "cell_type": "code",
   "execution_count": 36,
   "metadata": {},
   "outputs": [
    {
     "name": "stdout",
     "output_type": "stream",
     "text": [
      "Mean duration for 'normal' interactions is 216.657\n",
      "Mean duration for 'attack' interactions is 6.621\n"
     ]
    }
   ],
   "source": [
    "normal_count = normal_duration_data.count()\n",
    "attack_count = attack_duration_data.count()\n",
    "\n",
    "print(\"Mean duration for 'normal' interactions is {}\".\\\n",
    "    format(round(total_normal_duration/float(normal_count),3)))\n",
    "print(\"Mean duration for 'attack' interactions is {}\".\\\n",
    "    format(round(total_attack_duration/float(attack_count),3)))"
   ]
  },
  {
   "cell_type": "markdown",
   "metadata": {},
   "source": [
    "Donne une première discrimination simpliste entre interactions.\n",
    "\n",
    "#### 4.2.2 `aggregate`\n",
    "\n",
    "L'action `aggregate` relaxe la contrainte de gérer des RDDs de même type mais nécessite l'initialisation comme `fold`. Deux fonctions sont définies, la première de la RDD avec l'accumulateur. La deuxième fusionne deux accumulateurs. L'objectif reste de calculer les moyennes des durées par statut.\n"
   ]
  },
  {
   "cell_type": "code",
   "execution_count": 37,
   "metadata": {},
   "outputs": [
    {
     "name": "stdout",
     "output_type": "stream",
     "text": [
      "Durée moyenne des interactions normales 216.657\n"
     ]
    }
   ],
   "source": [
    "normal_sum_count = normal_duration_data.aggregate((0,0), # valeurs initiales à 0\n",
    "    (lambda acc, value: (acc[0] + value, acc[1] + 1)), # Somme des durées et cumul des interactions\n",
    "    (lambda acc1, acc2: (acc1[0] + acc2[0], acc1[1] + acc2[1])) # cumul des accumualteurs\n",
    "    )\n",
    "print(\"Durée moyenne des interactions normales {}\".\\\n",
    "    format(round(normal_sum_count[0]/float(normal_sum_count[1]),3)))"
   ]
  },
  {
   "cell_type": "markdown",
   "metadata": {},
   "source": [
    "Le premier accumulateur somme les durées tandis que le 2ème compte le nombre d'interactions. Combiner un accumlateur avec une RDD consiste à sommet la valeur et incrémenter le comptage. Combiner deux accumulateurs est une simple somme par paire.\n",
    "\n",
    "Même chose avec les attaques."
   ]
  },
  {
   "cell_type": "code",
   "execution_count": 38,
   "metadata": {},
   "outputs": [
    {
     "name": "stdout",
     "output_type": "stream",
     "text": [
      "Durée moyenne des interactions agressives 6.621\n"
     ]
    }
   ],
   "source": [
    "attack_sum_count = attack_duration_data.aggregate(\n",
    "    (0,0), # the initial value\n",
    "    (lambda acc, value: (acc[0] + value, acc[1] + 1)), # combine value with acc\n",
    "    (lambda acc1, acc2: (acc1[0] + acc2[0], acc1[1] + acc2[1])) # combine accumulators\n",
    "    )\n",
    "\n",
    "print(\"Durée moyenne des interactions agressives {}\".\\\n",
    "    format(round(attack_sum_count[0]/float(attack_sum_count[1]),3)))"
   ]
  },
  {
   "cell_type": "markdown",
   "metadata": {},
   "source": [
    "### 4.3 Combiner par clef"
   ]
  },
  {
   "cell_type": "markdown",
   "metadata": {},
   "source": [
    "Spark fournit des fonctions pour gérer des paires (clef, valeur), bases du *mapreduce*. Elles exécutent des agrégations et autres traitements par clef.\n",
    "\n",
    "Ces fonctions permettent d'explorer efficacement différents croisement avec le type d'interaction."
   ]
  },
  {
   "cell_type": "code",
   "execution_count": 39,
   "metadata": {
    "collapsed": true
   },
   "outputs": [],
   "source": [
    "# relecture des données\n",
    "data_file = DATA_PATH+\"kddcup.data_10_percent.gz\"\n",
    "raw_data = sc.textFile(data_file)"
   ]
  },
  {
   "cell_type": "markdown",
   "metadata": {},
   "source": [
    "Il s'agit donc, pour explorer, de croiser le type d'interaction avec d'autres variables comme la durée. Ceci est initié par la création de RDDs où la clef est le type d'interaction tandis que la liste des autres champs est la valeur. \n",
    "\n",
    "La création des RDDs de paires (clef, valeur) est obtenue par l'applicaiton d'une transformation *map*."
   ]
  },
  {
   "cell_type": "code",
   "execution_count": 40,
   "metadata": {
    "collapsed": true
   },
   "outputs": [],
   "source": [
    "csv_data = raw_data.map(lambda x: x.split(\",\"))\n",
    "key_value_data = csv_data.map(lambda x: (x[41], x)) # x[41] contient le type normal ou non"
   ]
  },
  {
   "cell_type": "markdown",
   "metadata": {},
   "source": [
    "Affichage du premier élément."
   ]
  },
  {
   "cell_type": "code",
   "execution_count": 41,
   "metadata": {},
   "outputs": [
    {
     "data": {
      "text/plain": [
       "[('normal.',\n",
       "  ['0',\n",
       "   'tcp',\n",
       "   'http',\n",
       "   'SF',\n",
       "   '181',\n",
       "   '5450',\n",
       "   '0',\n",
       "   '0',\n",
       "   '0',\n",
       "   '0',\n",
       "   '0',\n",
       "   '1',\n",
       "   '0',\n",
       "   '0',\n",
       "   '0',\n",
       "   '0',\n",
       "   '0',\n",
       "   '0',\n",
       "   '0',\n",
       "   '0',\n",
       "   '0',\n",
       "   '0',\n",
       "   '8',\n",
       "   '8',\n",
       "   '0.00',\n",
       "   '0.00',\n",
       "   '0.00',\n",
       "   '0.00',\n",
       "   '1.00',\n",
       "   '0.00',\n",
       "   '0.00',\n",
       "   '9',\n",
       "   '9',\n",
       "   '1.00',\n",
       "   '0.00',\n",
       "   '0.11',\n",
       "   '0.00',\n",
       "   '0.00',\n",
       "   '0.00',\n",
       "   '0.00',\n",
       "   '0.00',\n",
       "   'normal.'])]"
      ]
     },
     "execution_count": 41,
     "metadata": {},
     "output_type": "execute_result"
    }
   ],
   "source": [
    "key_value_data.take(1)"
   ]
  },
  {
   "cell_type": "markdown",
   "metadata": {},
   "source": [
    "#### 4.3.1 Aggrégation de RDDs par clef/valeur\n",
    "\n",
    "Spark fournit des fonctions spécifiques adaptées aux paires (clef, valeurs). \n",
    "\n",
    "Ainsi la transformation `reduceByKey` est utilisée pour calculer la durée par type d'interaction.\n"
   ]
  },
  {
   "cell_type": "code",
   "execution_count": 42,
   "metadata": {},
   "outputs": [
    {
     "data": {
      "text/plain": [
       "[('portsweep.', 1991911.0),\n",
       " ('neptune.', 0.0),\n",
       " ('satan.', 64.0),\n",
       " ('pod.', 0.0),\n",
       " ('multihop.', 1288.0),\n",
       " ('back.', 284.0),\n",
       " ('warezclient.', 627563.0),\n",
       " ('nmap.', 0.0),\n",
       " ('smurf.', 0.0),\n",
       " ('guess_passwd.', 144.0),\n",
       " ('ftp_write.', 259.0),\n",
       " ('imap.', 72.0),\n",
       " ('land.', 0.0),\n",
       " ('loadmodule.', 326.0),\n",
       " ('buffer_overflow.', 2751.0),\n",
       " ('perl.', 124.0),\n",
       " ('ipsweep.', 43.0),\n",
       " ('rootkit.', 1008.0),\n",
       " ('phf.', 18.0),\n",
       " ('teardrop.', 0.0),\n",
       " ('warezmaster.', 301.0),\n",
       " ('normal.', 21075991.0),\n",
       " ('spy.', 636.0)]"
      ]
     },
     "execution_count": 42,
     "metadata": {},
     "output_type": "execute_result"
    }
   ],
   "source": [
    "key_value_duration = csv_data.map(lambda x: (x[41], float(x[0]))) \n",
    "durations_by_key = key_value_duration.reduceByKey(lambda x, y: x + y)\n",
    "\n",
    "durations_by_key.collect()"
   ]
  },
  {
   "cell_type": "markdown",
   "metadata": {},
   "source": [
    "Le comptage est aussi opéré par clef."
   ]
  },
  {
   "cell_type": "code",
   "execution_count": 43,
   "metadata": {},
   "outputs": [
    {
     "data": {
      "text/plain": [
       "defaultdict(int,\n",
       "            {'back.': 2203,\n",
       "             'buffer_overflow.': 30,\n",
       "             'ftp_write.': 8,\n",
       "             'guess_passwd.': 53,\n",
       "             'imap.': 12,\n",
       "             'ipsweep.': 1247,\n",
       "             'land.': 21,\n",
       "             'loadmodule.': 9,\n",
       "             'multihop.': 7,\n",
       "             'neptune.': 107201,\n",
       "             'nmap.': 231,\n",
       "             'normal.': 97278,\n",
       "             'perl.': 3,\n",
       "             'phf.': 4,\n",
       "             'pod.': 264,\n",
       "             'portsweep.': 1040,\n",
       "             'rootkit.': 10,\n",
       "             'satan.': 1589,\n",
       "             'smurf.': 280790,\n",
       "             'spy.': 2,\n",
       "             'teardrop.': 979,\n",
       "             'warezclient.': 1020,\n",
       "             'warezmaster.': 20})"
      ]
     },
     "execution_count": 43,
     "metadata": {},
     "output_type": "execute_result"
    }
   ],
   "source": [
    "counts_by_key = key_value_data.countByKey()\n",
    "counts_by_key"
   ]
  },
  {
   "cell_type": "markdown",
   "metadata": {},
   "source": [
    "#### 4.3.2 `combineByKey`\n",
    "C'est la fonction d'aggrégation par clef la plus générale et est utilisée par la plupart des autres fonctions de combinaison par clef. Comme pour la transformation `aggregate` les valeurs en retour ne sont pas nécessairement du même type que les données en entrée. \n",
    "\n",
    "Toujours pour calculer la moyenne des durées par type:"
   ]
  },
  {
   "cell_type": "code",
   "execution_count": 44,
   "metadata": {},
   "outputs": [
    {
     "data": {
      "text/plain": [
       "{'back.': (284.0, 2203),\n",
       " 'buffer_overflow.': (2751.0, 30),\n",
       " 'ftp_write.': (259.0, 8),\n",
       " 'guess_passwd.': (144.0, 53),\n",
       " 'imap.': (72.0, 12),\n",
       " 'ipsweep.': (43.0, 1247),\n",
       " 'land.': (0.0, 21),\n",
       " 'loadmodule.': (326.0, 9),\n",
       " 'multihop.': (1288.0, 7),\n",
       " 'neptune.': (0.0, 107201),\n",
       " 'nmap.': (0.0, 231),\n",
       " 'normal.': (21075991.0, 97278),\n",
       " 'perl.': (124.0, 3),\n",
       " 'phf.': (18.0, 4),\n",
       " 'pod.': (0.0, 264),\n",
       " 'portsweep.': (1991911.0, 1040),\n",
       " 'rootkit.': (1008.0, 10),\n",
       " 'satan.': (64.0, 1589),\n",
       " 'smurf.': (0.0, 280790),\n",
       " 'spy.': (636.0, 2),\n",
       " 'teardrop.': (0.0, 979),\n",
       " 'warezclient.': (627563.0, 1020),\n",
       " 'warezmaster.': (301.0, 20)}"
      ]
     },
     "execution_count": 44,
     "metadata": {},
     "output_type": "execute_result"
    }
   ],
   "source": [
    "sum_counts = key_value_duration.combineByKey(\n",
    "    (lambda x: (x, 1)), # valeur initiale x and compteur 1\n",
    "    (lambda acc, value: (acc[0]+value, acc[1]+1)), # Combiner une paire  avec une paires d'accumulateurs (somme et incrément)\n",
    "    (lambda acc1, acc2: (acc1[0]+acc2[0], acc1[1]+acc2[1])) # combinaison des accumulateurs\n",
    "     )\n",
    "sum_counts.collectAsMap()"
   ]
  },
  {
   "cell_type": "markdown",
   "metadata": {},
   "source": [
    "Les divisions produisent les moyennes."
   ]
  },
  {
   "cell_type": "code",
   "execution_count": 45,
   "metadata": {},
   "outputs": [
    {
     "name": "stdout",
     "output_type": "stream",
     "text": [
      "portsweep. 1915.299\n",
      "warezclient. 615.258\n",
      "spy. 318.0\n",
      "normal. 216.657\n",
      "multihop. 184.0\n",
      "rootkit. 100.8\n",
      "buffer_overflow. 91.7\n",
      "perl. 41.333\n",
      "loadmodule. 36.222\n",
      "ftp_write. 32.375\n",
      "warezmaster. 15.05\n",
      "imap. 6.0\n",
      "phf. 4.5\n",
      "guess_passwd. 2.717\n",
      "back. 0.129\n",
      "satan. 0.04\n",
      "ipsweep. 0.034\n",
      "nmap. 0.0\n",
      "land. 0.0\n",
      "teardrop. 0.0\n",
      "neptune. 0.0\n",
      "pod. 0.0\n",
      "smurf. 0.0\n"
     ]
    }
   ],
   "source": [
    "duration_means_by_type = sum_counts.map(lambda lambda_args: (lambda_args[0], round(lambda_args[1][0]/lambda_args[1][1],3))).collectAsMap()\n",
    "\n",
    "#Print them sorted\n",
    "for tag in sorted(duration_means_by_type, key=duration_means_by_type.get, reverse=True):\n",
    "    print(tag, duration_means_by_type[tag])"
   ]
  },
  {
   "cell_type": "code",
   "execution_count": null,
   "metadata": {
    "collapsed": true
   },
   "outputs": [],
   "source": []
  }
 ],
 "metadata": {
  "hide_input": false,
  "kernelspec": {
   "display_name": "PySpark (Spark 2.3.0)",
   "language": "python",
   "name": "pyspark"
  },
  "language_info": {
   "codemirror_mode": {
    "name": "ipython",
    "version": 3
   },
   "file_extension": ".py",
   "mimetype": "text/x-python",
   "name": "python",
   "nbconvert_exporter": "python",
   "pygments_lexer": "ipython3",
   "version": "3.5.1"
  },
  "toc": {
   "nav_menu": {
    "height": "492px",
    "width": "252px"
   },
   "number_sections": true,
   "sideBar": true,
   "skip_h1_title": false,
   "toc_cell": false,
   "toc_position": {},
   "toc_section_display": "block",
   "toc_window_display": true
  }
 },
 "nbformat": 4,
 "nbformat_minor": 1
}
